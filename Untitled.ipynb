{
 "cells": [
  {
   "cell_type": "code",
   "execution_count": 1,
   "metadata": {},
   "outputs": [],
   "source": [
    "import torch\n",
    "import torch.nn as nn\n",
    "\n",
    "clss=nn.Conv2d(2048,1,kernel_size=1,stride=1,padding=0,bias=True)\n",
    "\n",
    "z=torch.randn((3,2048, 7, 7))"
   ]
  },
  {
   "cell_type": "code",
   "execution_count": 2,
   "metadata": {},
   "outputs": [
    {
     "data": {
      "text/plain": [
       "torch.Size([1, 2048, 1, 1])"
      ]
     },
     "execution_count": 2,
     "metadata": {},
     "output_type": "execute_result"
    }
   ],
   "source": [
    "clss.weight.data.shape#.normal_(0, 0.01)"
   ]
  },
  {
   "cell_type": "code",
   "execution_count": 4,
   "metadata": {},
   "outputs": [
    {
     "data": {
      "text/plain": [
       "tensor([[[[ 0.4425, -0.4400,  0.2874, -0.4024, -0.2580, -0.1675, -0.3431],\n",
       "          [ 0.1394, -0.3216,  0.8876, -0.3085, -0.9595, -0.6391,  0.5531],\n",
       "          [-0.2920,  0.3401,  1.4428,  1.0587, -0.7264, -0.1092, -0.2878],\n",
       "          [ 0.3978,  0.7532,  0.6881, -0.1320,  0.2484, -0.2737,  0.6379],\n",
       "          [-0.1298, -0.2023,  0.8181,  0.5551, -0.5910, -0.3656,  0.6970],\n",
       "          [-0.3513, -0.8270, -0.8521,  0.8118,  0.3490,  0.2335,  0.1348],\n",
       "          [-0.5725, -0.1276,  0.7851,  0.3036, -0.5479, -0.4779, -0.3278]]]],\n",
       "       grad_fn=<MkldnnConvolutionBackward>)"
      ]
     },
     "execution_count": 4,
     "metadata": {},
     "output_type": "execute_result"
    }
   ],
   "source": [
    "clss(z)"
   ]
  },
  {
   "cell_type": "code",
   "execution_count": 7,
   "metadata": {},
   "outputs": [
    {
     "data": {
      "text/plain": [
       "tensor([[[[-0.0621, -0.5300,  0.0169,  0.0474, -0.7095,  0.1518, -0.6756],\n",
       "          [ 0.1542, -0.0358, -0.2663, -0.0980, -0.0335, -0.0292,  0.5006],\n",
       "          [-0.4050, -0.2393,  0.3402, -1.4585, -0.0057, -0.0385,  0.3011],\n",
       "          [ 0.1100, -0.0584, -0.0636, -0.6159,  0.6179,  0.0221,  0.4652],\n",
       "          [-0.4208,  0.6188, -0.0937, -0.0399, -0.1656,  0.0588,  0.2069],\n",
       "          [ 0.1629, -0.0788,  0.0140, -0.4366,  0.1510, -0.0243, -0.6226],\n",
       "          [ 1.0534,  0.5154, -0.7643,  0.2973, -0.0795,  0.4641, -0.2121]]]],\n",
       "       grad_fn=<MkldnnConvolutionBackward>)"
      ]
     },
     "execution_count": 7,
     "metadata": {},
     "output_type": "execute_result"
    }
   ],
   "source": [
    "clss(z)"
   ]
  },
  {
   "cell_type": "code",
   "execution_count": 8,
   "metadata": {},
   "outputs": [
    {
     "data": {
      "text/plain": [
       "torch.Size([1, 2048, 1, 1])"
      ]
     },
     "execution_count": 8,
     "metadata": {},
     "output_type": "execute_result"
    }
   ],
   "source": [
    "clss.weight.data.shape"
   ]
  },
  {
   "cell_type": "code",
   "execution_count": 8,
   "metadata": {},
   "outputs": [
    {
     "data": {
      "text/plain": [
       "tensor([[-0.0208, -0.0094, -0.0149,  0.0009, -0.0060, -0.0268, -0.0003],\n",
       "        [-0.0172,  0.0079, -0.0047,  0.0403, -0.0034,  0.0088,  0.0157],\n",
       "        [ 0.0244,  0.0146, -0.0148, -0.0160, -0.0322,  0.0209,  0.0071],\n",
       "        [ 0.0143,  0.0092, -0.0145, -0.0114,  0.0237,  0.0081,  0.0191],\n",
       "        [-0.0130,  0.0082, -0.0159,  0.0091,  0.0125, -0.0070, -0.0214],\n",
       "        [-0.0014,  0.0103, -0.0138, -0.0050,  0.0118,  0.0031,  0.0231],\n",
       "        [ 0.0309,  0.0322,  0.0031,  0.0097, -0.0087, -0.0155,  0.0116]])"
      ]
     },
     "execution_count": 8,
     "metadata": {},
     "output_type": "execute_result"
    }
   ],
   "source": [
    "(z*clss.weight.data)[0,0,:]"
   ]
  },
  {
   "cell_type": "code",
   "execution_count": 5,
   "metadata": {},
   "outputs": [],
   "source": [
    "p=torch.mul(z, clss.weight.data)"
   ]
  },
  {
   "cell_type": "code",
   "execution_count": 7,
   "metadata": {},
   "outputs": [
    {
     "data": {
      "text/plain": [
       "tensor([[-0.0208, -0.0094, -0.0149,  0.0009, -0.0060, -0.0268, -0.0003],\n",
       "        [-0.0172,  0.0079, -0.0047,  0.0403, -0.0034,  0.0088,  0.0157],\n",
       "        [ 0.0244,  0.0146, -0.0148, -0.0160, -0.0322,  0.0209,  0.0071],\n",
       "        [ 0.0143,  0.0092, -0.0145, -0.0114,  0.0237,  0.0081,  0.0191],\n",
       "        [-0.0130,  0.0082, -0.0159,  0.0091,  0.0125, -0.0070, -0.0214],\n",
       "        [-0.0014,  0.0103, -0.0138, -0.0050,  0.0118,  0.0031,  0.0231],\n",
       "        [ 0.0309,  0.0322,  0.0031,  0.0097, -0.0087, -0.0155,  0.0116]])"
      ]
     },
     "execution_count": 7,
     "metadata": {},
     "output_type": "execute_result"
    }
   ],
   "source": [
    "p[0,0,:]"
   ]
  },
  {
   "cell_type": "code",
   "execution_count": 11,
   "metadata": {},
   "outputs": [],
   "source": [
    "p=z[0,:,:,:]*clss.weight.data[0,:,:,:]"
   ]
  },
  {
   "cell_type": "code",
   "execution_count": 12,
   "metadata": {},
   "outputs": [
    {
     "data": {
      "text/plain": [
       "tensor([[[ 0.0029]],\n",
       "\n",
       "        [[-0.0084]],\n",
       "\n",
       "        [[-0.0101]],\n",
       "\n",
       "        ...,\n",
       "\n",
       "        [[-0.0075]],\n",
       "\n",
       "        [[-0.0075]],\n",
       "\n",
       "        [[-0.0121]]])"
      ]
     },
     "execution_count": 12,
     "metadata": {},
     "output_type": "execute_result"
    }
   ],
   "source": [
    "clss.weight.data[0,:,:,:]"
   ]
  },
  {
   "cell_type": "code",
   "execution_count": 18,
   "metadata": {},
   "outputs": [
    {
     "data": {
      "text/plain": [
       "tensor([[-1.3431, -0.1562, -1.9629,  0.2265,  0.8966,  0.0579, -0.1961],\n",
       "        [ 1.2281, -0.2288,  1.6557,  0.7692, -0.0712,  0.5477, -0.2267],\n",
       "        [ 0.1485,  1.5962, -0.8353, -0.2015, -0.9412,  0.9839,  1.1614],\n",
       "        [ 0.4061,  0.7466,  0.8259,  0.7493,  0.2563, -0.6480, -1.1767],\n",
       "        [ 1.7272, -0.9576,  0.1275,  1.8919,  0.0397,  0.2668, -1.0883],\n",
       "        [ 0.1873,  0.5999, -2.0747, -0.3639,  0.7208,  0.4747, -0.8719],\n",
       "        [ 0.7146, -0.6331, -0.9402,  0.1687,  1.3678,  0.7505, -1.3684]])"
      ]
     },
     "execution_count": 18,
     "metadata": {},
     "output_type": "execute_result"
    }
   ],
   "source": [
    "z[0,0,:,:]"
   ]
  },
  {
   "cell_type": "code",
   "execution_count": 17,
   "metadata": {},
   "outputs": [
    {
     "data": {
      "text/plain": [
       "tensor([[-0.0039, -0.0005, -0.0058,  0.0007,  0.0026,  0.0002, -0.0006],\n",
       "        [ 0.0036, -0.0007,  0.0049,  0.0023, -0.0002,  0.0016, -0.0007],\n",
       "        [ 0.0004,  0.0047, -0.0025, -0.0006, -0.0028,  0.0029,  0.0034],\n",
       "        [ 0.0012,  0.0022,  0.0024,  0.0022,  0.0008, -0.0019, -0.0035],\n",
       "        [ 0.0051, -0.0028,  0.0004,  0.0056,  0.0001,  0.0008, -0.0032],\n",
       "        [ 0.0005,  0.0018, -0.0061, -0.0011,  0.0021,  0.0014, -0.0026],\n",
       "        [ 0.0021, -0.0019, -0.0028,  0.0005,  0.0040,  0.0022, -0.0040]])"
      ]
     },
     "execution_count": 17,
     "metadata": {},
     "output_type": "execute_result"
    }
   ],
   "source": [
    "p[0,:,:]"
   ]
  },
  {
   "cell_type": "code",
   "execution_count": 2,
   "metadata": {},
   "outputs": [
    {
     "name": "stdout",
     "output_type": "stream",
     "text": [
      "Requirement already satisfied: easydict in c:\\users\\asus\\anaconda3\\envs\\neural\\lib\\site-packages (1.9)\n"
     ]
    }
   ],
   "source": [
    "!pip install easydict"
   ]
  },
  {
   "cell_type": "code",
   "execution_count": 4,
   "metadata": {},
   "outputs": [
    {
     "name": "stderr",
     "output_type": "stream",
     "text": [
      "Downloading: \"https://download.pytorch.org/models/densenet169-b2777c0a.pth\" to C:\\Users\\asus/.cache\\torch\\hub\\checkpoints\\densenet169-b2777c0a.pth\n"
     ]
    },
    {
     "data": {
      "application/vnd.jupyter.widget-view+json": {
       "model_id": "64d649df3ae14c0e8ff8c940b5278d90",
       "version_major": 2,
       "version_minor": 0
      },
      "text/plain": [
       "HBox(children=(FloatProgress(value=0.0, max=57365526.0), HTML(value='')))"
      ]
     },
     "metadata": {},
     "output_type": "display_data"
    },
    {
     "name": "stdout",
     "output_type": "stream",
     "text": [
      "\n"
     ]
    },
    {
     "ename": "ModuleAttributeError",
     "evalue": "'DenseNet' object has no attribute 'conv0'",
     "output_type": "error",
     "traceback": [
      "\u001b[1;31m---------------------------------------------------------------------------\u001b[0m",
      "\u001b[1;31mModuleAttributeError\u001b[0m                      Traceback (most recent call last)",
      "\u001b[1;32m<ipython-input-4-f4b40d06504e>\u001b[0m in \u001b[0;36m<module>\u001b[1;34m\u001b[0m\n\u001b[0;32m      5\u001b[0m     \u001b[0mcfg\u001b[0m \u001b[1;33m=\u001b[0m \u001b[0medict\u001b[0m\u001b[1;33m(\u001b[0m\u001b[0mjson\u001b[0m\u001b[1;33m.\u001b[0m\u001b[0mload\u001b[0m\u001b[1;33m(\u001b[0m\u001b[0mf\u001b[0m\u001b[1;33m)\u001b[0m\u001b[1;33m)\u001b[0m\u001b[1;33m\u001b[0m\u001b[1;33m\u001b[0m\u001b[0m\n\u001b[0;32m      6\u001b[0m \u001b[0mbackbone\u001b[0m \u001b[1;33m=\u001b[0m \u001b[0mdensenet169\u001b[0m\u001b[1;33m(\u001b[0m\u001b[0mcfg\u001b[0m\u001b[1;33m)\u001b[0m\u001b[1;33m\u001b[0m\u001b[1;33m\u001b[0m\u001b[0m\n\u001b[1;32m----> 7\u001b[1;33m \u001b[0mtrained_kernel\u001b[0m \u001b[1;33m=\u001b[0m \u001b[0mbackbone\u001b[0m\u001b[1;33m.\u001b[0m\u001b[0mconv0\u001b[0m\u001b[1;33m.\u001b[0m\u001b[0mweigh\u001b[0m\u001b[1;33m\u001b[0m\u001b[1;33m\u001b[0m\u001b[0m\n\u001b[0m",
      "\u001b[1;32mc:\\users\\asus\\anaconda3\\envs\\neural\\lib\\site-packages\\torch\\nn\\modules\\module.py\u001b[0m in \u001b[0;36m__getattr__\u001b[1;34m(self, name)\u001b[0m\n\u001b[0;32m    770\u001b[0m                 \u001b[1;32mreturn\u001b[0m \u001b[0mmodules\u001b[0m\u001b[1;33m[\u001b[0m\u001b[0mname\u001b[0m\u001b[1;33m]\u001b[0m\u001b[1;33m\u001b[0m\u001b[1;33m\u001b[0m\u001b[0m\n\u001b[0;32m    771\u001b[0m         raise ModuleAttributeError(\"'{}' object has no attribute '{}'\".format(\n\u001b[1;32m--> 772\u001b[1;33m             type(self).__name__, name))\n\u001b[0m\u001b[0;32m    773\u001b[0m \u001b[1;33m\u001b[0m\u001b[0m\n\u001b[0;32m    774\u001b[0m     \u001b[1;32mdef\u001b[0m \u001b[0m__setattr__\u001b[0m\u001b[1;33m(\u001b[0m\u001b[0mself\u001b[0m\u001b[1;33m,\u001b[0m \u001b[0mname\u001b[0m\u001b[1;33m:\u001b[0m \u001b[0mstr\u001b[0m\u001b[1;33m,\u001b[0m \u001b[0mvalue\u001b[0m\u001b[1;33m:\u001b[0m \u001b[0mUnion\u001b[0m\u001b[1;33m[\u001b[0m\u001b[0mTensor\u001b[0m\u001b[1;33m,\u001b[0m \u001b[1;34m'Module'\u001b[0m\u001b[1;33m]\u001b[0m\u001b[1;33m)\u001b[0m \u001b[1;33m->\u001b[0m \u001b[1;32mNone\u001b[0m\u001b[1;33m:\u001b[0m\u001b[1;33m\u001b[0m\u001b[1;33m\u001b[0m\u001b[0m\n",
      "\u001b[1;31mModuleAttributeError\u001b[0m: 'DenseNet' object has no attribute 'conv0'"
     ]
    }
   ],
   "source": [
    "import json\n",
    "from easydict import EasyDict as edict\n",
    "from model.backbone.densenet import densenet169\n",
    "with open('config/example_PCAM.json') as f:\n",
    "    cfg = edict(json.load(f))\n",
    "backbone = densenet169(cfg)\n",
    "trained_kernel = backbone.conv0.weigh"
   ]
  },
  {
   "cell_type": "code",
   "execution_count": 9,
   "metadata": {},
   "outputs": [],
   "source": [
    "import torch.nn as nn\n",
    "\n",
    "import torch\n",
    "\n",
    "new_conv = nn.Conv2d(1, 64, kernel_size=7, stride=2, padding=3, bias=False)\n",
    "\n"
   ]
  },
  {
   "cell_type": "code",
   "execution_count": 8,
   "metadata": {},
   "outputs": [
    {
     "data": {
      "text/plain": [
       "torch.Size([64, 3, 7, 7])"
      ]
     },
     "execution_count": 8,
     "metadata": {},
     "output_type": "execute_result"
    }
   ],
   "source": [
    "backbone.features.conv0.weight.shape"
   ]
  },
  {
   "cell_type": "code",
   "execution_count": 11,
   "metadata": {},
   "outputs": [
    {
     "data": {
      "text/plain": [
       "torch.Size([64, 1, 7, 7])"
      ]
     },
     "execution_count": 11,
     "metadata": {},
     "output_type": "execute_result"
    }
   ],
   "source": [
    "new_conv.weight.shape"
   ]
  },
  {
   "cell_type": "code",
   "execution_count": 15,
   "metadata": {},
   "outputs": [
    {
     "data": {
      "text/plain": [
       "(3, 33, 4)"
      ]
     },
     "execution_count": 15,
     "metadata": {},
     "output_type": "execute_result"
    }
   ],
   "source": [
    "import numpy as np\n",
    "\n",
    "a=np.random.randn(3,33,4)\n",
    "a.shape"
   ]
  },
  {
   "cell_type": "code",
   "execution_count": 17,
   "metadata": {},
   "outputs": [
    {
     "data": {
      "text/plain": [
       "(3, 33, 4, 1)"
      ]
     },
     "execution_count": 17,
     "metadata": {},
     "output_type": "execute_result"
    }
   ],
   "source": [
    "a=a.reshape(a.shape[0],a.shape[1],-1,1)\n",
    "a.shape"
   ]
  },
  {
   "cell_type": "code",
   "execution_count": null,
   "metadata": {},
   "outputs": [],
   "source": []
  }
 ],
 "metadata": {
  "kernelspec": {
   "display_name": "Python 3",
   "language": "python",
   "name": "python3"
  },
  "language_info": {
   "codemirror_mode": {
    "name": "ipython",
    "version": 3
   },
   "file_extension": ".py",
   "mimetype": "text/x-python",
   "name": "python",
   "nbconvert_exporter": "python",
   "pygments_lexer": "ipython3",
   "version": "3.6.10"
  }
 },
 "nbformat": 4,
 "nbformat_minor": 4
}
